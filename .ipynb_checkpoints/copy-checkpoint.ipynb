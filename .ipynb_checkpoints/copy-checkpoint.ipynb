{
 "cells": [
  {
   "cell_type": "markdown",
   "id": "64956198",
   "metadata": {},
   "source": [
    "https://www.youtube.com/watch?v=DbESHcCoWbM&t=13s"
   ]
  },
  {
   "cell_type": "code",
   "execution_count": 1,
   "id": "74b98c9d",
   "metadata": {},
   "outputs": [],
   "source": [
    "import torch\n",
    "from torch import nn\n",
    "from torch import optim\n",
    "from torchvision import datasets, transforms\n",
    "from torch.utils.data import random_split, DataLoader, Dataset\n",
    "import pytorch_lightning as pl\n",
    "from PIL import Image\n",
    "import os\n",
    "from matplotlib import pyplot as plt"
   ]
  },
  {
   "cell_type": "code",
   "execution_count": 2,
   "id": "bc54bddc",
   "metadata": {},
   "outputs": [],
   "source": [
    "# import sphere data\n",
    "# define path\n",
    "# create train and validation and test sets\n",
    "# 40, 10, 10\n",
    "\n",
    "# path on my specific device\n",
    "train_path = \"/Users/maryclaremartin/Documents/Github/Research-Fall-2022/cali_camera_data/train\"\n",
    "validation_path = \"/Users/maryclaremartin/Documents/Github/Research-Fall-2022/cali_camera_data/validation\"\n",
    "test_path = \"/Users/maryclaremartin/Documents/Github/Research-Fall-2022/cali_camera_data/test\""
   ]
  },
  {
   "cell_type": "code",
   "execution_count": 3,
   "id": "dcce9542",
   "metadata": {},
   "outputs": [],
   "source": [
    "# create image arrays for use in train, validation, and test dataloaders\n",
    "# path: path to folder on specific device\n",
    "def image_arrays(path):\n",
    "    dir_list = os.listdir(path)\n",
    "    \n",
    "    # empty array for image names\n",
    "    image_names = []\n",
    "    \n",
    "    # add image names from directory to a list\n",
    "    for image in dir_list:\n",
    "        image_names.append(image)\n",
    "\n",
    "    # sort image titles\n",
    "    image_names = sorted(image_names)\n",
    "    \n",
    "    #create array for images, segmentation images\n",
    "    images = []\n",
    "    seg_images = []\n",
    "\n",
    "    for image in image_names:\n",
    "        if \"img\" in image:\n",
    "            images.append(Image.open(os.path.join(path,image)))\n",
    "        elif \"seg\" in image:\n",
    "            seg_images.append(Image.open(os.path.join(path,image)))\n",
    "            \n",
    "    return images, seg_images"
   ]
  },
  {
   "cell_type": "code",
   "execution_count": 4,
   "id": "1d1b3844",
   "metadata": {},
   "outputs": [],
   "source": [
    "# create arrays for train, validation, test\n",
    "train_images, seg_train_images = image_arrays(train_path)\n",
    "validation_images, seg_validation_images = image_arrays(validation_path)\n",
    "test_images, seg_test_images = image_arrays(test_path)"
   ]
  },
  {
   "cell_type": "code",
   "execution_count": 5,
   "id": "65290867",
   "metadata": {},
   "outputs": [],
   "source": [
    "# define dataset\n",
    "class sphereDataset(Dataset):\n",
    "    def __init__(self, images, seg_images, transform=transforms.ToTensor(), target_transform=transforms.ToTensor()):\n",
    "        self.images = images\n",
    "        self.seg_images = seg_images\n",
    "        self.transform = transform\n",
    "        self.target_transform = target_transform\n",
    "\n",
    "    def __len__(self):\n",
    "        return len(self.seg_images)\n",
    "\n",
    "    def __getitem__(self, idx):\n",
    "        image = self.images[idx]\n",
    "        seg = self.seg_images[idx]\n",
    "        if self.transform:\n",
    "            image = self.transform(image)\n",
    "        if self.target_transform:\n",
    "            seg = self.target_transform(seg)\n",
    "        return image, seg\n",
    "    "
   ]
  },
  {
   "cell_type": "code",
   "execution_count": 6,
   "id": "3aa18098",
   "metadata": {},
   "outputs": [],
   "source": [
    "# array for storing average epoch loss to plot later\n",
    "avg_loss = []\n",
    "# store y_score values\n",
    "y_score_values = []\n",
    "# store y_true values\n",
    "y_true_values = []"
   ]
  },
  {
   "cell_type": "code",
   "execution_count": 9,
   "id": "32c5019a",
   "metadata": {},
   "outputs": [],
   "source": [
    "class ImageClassifier(pl.LightningModule):\n",
    "    def __init__(self):\n",
    "        super().__init__()\n",
    "        # 1 by 1 convolution\n",
    "        self.conv = nn.Conv2d(3,1,(1,1))\n",
    "        \n",
    "        self.loss = nn.BCEWithLogitsLoss()\n",
    "    \n",
    "    def forward(self, x):\n",
    "        logits = self.conv(x)\n",
    "        return logits\n",
    "    \n",
    "    def configure_optimizers(self):\n",
    "        optimizer = optim.SGD(self.parameters(), lr=1e-2) \n",
    "        return optimizer\n",
    "    \n",
    "    def training_step(self, batch, batch_idx):\n",
    "        x, y = batch\n",
    "\n",
    "        # forward\n",
    "        logits = self(x)\n",
    "        \n",
    "        # compute the objective function\n",
    "        J = self.loss(logits, y)\n",
    "        \n",
    "        avg_loss.append(J)\n",
    "            \n",
    "        return J\n",
    "    \n",
    "    def validation_step(self, batch, batch_idx):\n",
    "        x, y = batch\n",
    "        y_hat = self(x)\n",
    "        y_score_values.append(y_hat)\n",
    "        y_true_values.append(y)\n",
    "        # metrics.average_precision_score(y, y_hat)\n",
    "        return y_hat\n",
    "\n",
    "    def test_step(self, batch, batch_idx):\n",
    "        x, y = batch\n",
    "        y_hat = self(x)\n",
    "        return y_hat\n",
    "        \n",
    "    def train_dataloader(self):\n",
    "        train_data = sphereDataset(train_images, seg_train_images)\n",
    "        train_loader = DataLoader(train_data, batch_size=1)\n",
    "        return train_loader\n",
    "    \n",
    "    def val_dataloader(self):\n",
    "        validation_data = sphereDataset(validation_images, seg_validation_images)\n",
    "        val_loader = DataLoader(validation_data, batch_size=1)\n",
    "        return val_loader\n",
    "    \n",
    "    def test_dataloader(self):\n",
    "        test_data = sphereDataset(test_images, seg_test_images)\n",
    "        test_loader = DataLoader(test_data, batch_size=1)\n",
    "        return test_loader\n",
    "\n",
    "# initialize model\n",
    "model = ImageClassifier()\n",
    "        "
   ]
  },
  {
   "cell_type": "code",
   "execution_count": 10,
   "id": "81260006",
   "metadata": {},
   "outputs": [
    {
     "name": "stderr",
     "output_type": "stream",
     "text": [
      "GPU available: False, used: False\n",
      "TPU available: False, using: 0 TPU cores\n",
      "IPU available: False, using: 0 IPUs\n",
      "HPU available: False, using: 0 HPUs\n",
      "\n",
      "  | Name | Type              | Params\n",
      "-------------------------------------------\n",
      "0 | conv | Conv2d            | 4     \n",
      "1 | loss | BCEWithLogitsLoss | 0     \n",
      "-------------------------------------------\n",
      "4         Trainable params\n",
      "0         Non-trainable params\n",
      "4         Total params\n",
      "0.000     Total estimated model params size (MB)\n"
     ]
    },
    {
     "data": {
      "application/vnd.jupyter.widget-view+json": {
       "model_id": "",
       "version_major": 2,
       "version_minor": 0
      },
      "text/plain": [
       "Sanity Checking: 0it [00:00, ?it/s]"
      ]
     },
     "metadata": {},
     "output_type": "display_data"
    },
    {
     "name": "stderr",
     "output_type": "stream",
     "text": [
      "/Users/maryclaremartin/opt/anaconda3/lib/python3.9/site-packages/pytorch_lightning/trainer/connectors/data_connector.py:225: PossibleUserWarning: The dataloader, val_dataloader 0, does not have many workers which may be a bottleneck. Consider increasing the value of the `num_workers` argument` (try 8 which is the number of cpus on this machine) in the `DataLoader` init to improve performance.\n",
      "  rank_zero_warn(\n",
      "[W NNPACK.cpp:51] Could not initialize NNPACK! Reason: Unsupported hardware.\n",
      "/Users/maryclaremartin/opt/anaconda3/lib/python3.9/site-packages/pytorch_lightning/trainer/connectors/data_connector.py:225: PossibleUserWarning: The dataloader, train_dataloader, does not have many workers which may be a bottleneck. Consider increasing the value of the `num_workers` argument` (try 8 which is the number of cpus on this machine) in the `DataLoader` init to improve performance.\n",
      "  rank_zero_warn(\n",
      "/Users/maryclaremartin/opt/anaconda3/lib/python3.9/site-packages/pytorch_lightning/trainer/trainer.py:1892: PossibleUserWarning: The number of training batches (40) is smaller than the logging interval Trainer(log_every_n_steps=50). Set a lower value for log_every_n_steps if you want to see logs for the training epoch.\n",
      "  rank_zero_warn(\n"
     ]
    },
    {
     "data": {
      "application/vnd.jupyter.widget-view+json": {
       "model_id": "a4dac037b7d3443d81ddc55450ebf644",
       "version_major": 2,
       "version_minor": 0
      },
      "text/plain": [
       "Training: 0it [00:00, ?it/s]"
      ]
     },
     "metadata": {},
     "output_type": "display_data"
    },
    {
     "data": {
      "application/vnd.jupyter.widget-view+json": {
       "model_id": "",
       "version_major": 2,
       "version_minor": 0
      },
      "text/plain": [
       "Validation: 0it [00:00, ?it/s]"
      ]
     },
     "metadata": {},
     "output_type": "display_data"
    },
    {
     "data": {
      "application/vnd.jupyter.widget-view+json": {
       "model_id": "",
       "version_major": 2,
       "version_minor": 0
      },
      "text/plain": [
       "Validation: 0it [00:00, ?it/s]"
      ]
     },
     "metadata": {},
     "output_type": "display_data"
    },
    {
     "data": {
      "application/vnd.jupyter.widget-view+json": {
       "model_id": "",
       "version_major": 2,
       "version_minor": 0
      },
      "text/plain": [
       "Validation: 0it [00:00, ?it/s]"
      ]
     },
     "metadata": {},
     "output_type": "display_data"
    },
    {
     "data": {
      "application/vnd.jupyter.widget-view+json": {
       "model_id": "",
       "version_major": 2,
       "version_minor": 0
      },
      "text/plain": [
       "Validation: 0it [00:00, ?it/s]"
      ]
     },
     "metadata": {},
     "output_type": "display_data"
    },
    {
     "data": {
      "application/vnd.jupyter.widget-view+json": {
       "model_id": "",
       "version_major": 2,
       "version_minor": 0
      },
      "text/plain": [
       "Validation: 0it [00:00, ?it/s]"
      ]
     },
     "metadata": {},
     "output_type": "display_data"
    },
    {
     "data": {
      "application/vnd.jupyter.widget-view+json": {
       "model_id": "",
       "version_major": 2,
       "version_minor": 0
      },
      "text/plain": [
       "Validation: 0it [00:00, ?it/s]"
      ]
     },
     "metadata": {},
     "output_type": "display_data"
    },
    {
     "data": {
      "application/vnd.jupyter.widget-view+json": {
       "model_id": "",
       "version_major": 2,
       "version_minor": 0
      },
      "text/plain": [
       "Validation: 0it [00:00, ?it/s]"
      ]
     },
     "metadata": {},
     "output_type": "display_data"
    },
    {
     "data": {
      "application/vnd.jupyter.widget-view+json": {
       "model_id": "",
       "version_major": 2,
       "version_minor": 0
      },
      "text/plain": [
       "Validation: 0it [00:00, ?it/s]"
      ]
     },
     "metadata": {},
     "output_type": "display_data"
    },
    {
     "data": {
      "application/vnd.jupyter.widget-view+json": {
       "model_id": "",
       "version_major": 2,
       "version_minor": 0
      },
      "text/plain": [
       "Validation: 0it [00:00, ?it/s]"
      ]
     },
     "metadata": {},
     "output_type": "display_data"
    },
    {
     "data": {
      "application/vnd.jupyter.widget-view+json": {
       "model_id": "",
       "version_major": 2,
       "version_minor": 0
      },
      "text/plain": [
       "Validation: 0it [00:00, ?it/s]"
      ]
     },
     "metadata": {},
     "output_type": "display_data"
    },
    {
     "name": "stderr",
     "output_type": "stream",
     "text": [
      "`Trainer.fit` stopped: `max_epochs=10` reached.\n",
      "/Users/maryclaremartin/opt/anaconda3/lib/python3.9/site-packages/pytorch_lightning/trainer/connectors/data_connector.py:225: PossibleUserWarning: The dataloader, test_dataloader 0, does not have many workers which may be a bottleneck. Consider increasing the value of the `num_workers` argument` (try 8 which is the number of cpus on this machine) in the `DataLoader` init to improve performance.\n",
      "  rank_zero_warn(\n"
     ]
    },
    {
     "data": {
      "application/vnd.jupyter.widget-view+json": {
       "model_id": "17b7fba7c5154de9aac01265206123ab",
       "version_major": 2,
       "version_minor": 0
      },
      "text/plain": [
       "Testing: 0it [00:00, ?it/s]"
      ]
     },
     "metadata": {},
     "output_type": "display_data"
    },
    {
     "data": {
      "text/plain": [
       "[{}]"
      ]
     },
     "execution_count": 10,
     "metadata": {},
     "output_type": "execute_result"
    }
   ],
   "source": [
    "trainer = pl.Trainer(max_epochs = 10)\n",
    "trainer.fit(model)\n",
    "trainer.test(model)"
   ]
  },
  {
   "cell_type": "code",
   "execution_count": 11,
   "id": "f9cb5ce8",
   "metadata": {},
   "outputs": [],
   "source": [
    "# compute average loss per epoch and plot\n",
    "avg_epoch_loss = []\n",
    "for i in range(10):\n",
    "    loss_sum = 0\n",
    "    for j in range(40):\n",
    "        loss_sum += avg_loss[i*40+j].detach()\n",
    "    avg_epoch_loss.append(loss_sum/40)"
   ]
  },
  {
   "cell_type": "code",
   "execution_count": 12,
   "id": "619bbbcf",
   "metadata": {},
   "outputs": [
    {
     "data": {
      "image/png": "[encoded data removed]",
      "text/plain": [
       "<Figure size 432x288 with 1 Axes>"
      ]
     },
     "metadata": {
      "needs_background": "light"
     },
     "output_type": "display_data"
    }
   ],
   "source": [
    "# plot average loss per epcoh\n",
    "plt.plot(range(10), avg_epoch_loss)\n",
    "plt.xlabel('epoch')\n",
    "plt.ylabel('avg epoch loss')\n",
    "plt.title('Average Loss Per Epoch')\n",
    "plt.show()"
   ]
  },
  {
   "cell_type": "code",
   "execution_count": null,
   "id": "6b353e68",
   "metadata": {},
   "outputs": [],
   "source": [
    "y_score_values = y_score_values[2:]"
   ]
  },
  {
   "cell_type": "code",
   "execution_count": null,
   "id": "c75642eb",
   "metadata": {},
   "outputs": [],
   "source": [
    "# validation average precision per epoch\n",
    "# currently crashes program\n",
    "#for i in range(10):\n",
    "    #y_score = []\n",
    "    #y_true = []\n",
    "    #for j in range(10):\n",
    "        #y_true.append(y_true_values[i*10+j].detaach().numpy().reshape(-1))\n",
    "        #y_score.append(y_score_values[i*10+j].detach().numpy().reshape(-1))\n",
    "        \n",
    "    #metrics.average_precision_score(y_true, y_score)"
   ]
  },
  {
   "cell_type": "markdown",
   "id": "c1b4938b",
   "metadata": {},
   "source": [
    "print out loss for each epoch (PLOT) for train and validation, print out average precision for validation (PLOT)\n",
    "By Monday\n",
    "create validation and test set\n",
    "overall folder - then train, validation, test\n",
    "run it on test set"
   ]
  },
  {
   "cell_type": "markdown",
   "id": "299694a4",
   "metadata": {},
   "source": []
  }
 ],
 "metadata": {
  "kernelspec": {
   "display_name": "Python 3 (ipykernel)",
   "language": "python",
   "name": "python3"
  },
  "language_info": {
   "codemirror_mode": {
    "name": "ipython",
    "version": 3
   },
   "file_extension": ".py",
   "mimetype": "text/x-python",
   "name": "python",
   "nbconvert_exporter": "python",
   "pygments_lexer": "ipython3",
   "version": "3.9.12"
  }
 },
 "nbformat": 4,
 "nbformat_minor": 5
}
