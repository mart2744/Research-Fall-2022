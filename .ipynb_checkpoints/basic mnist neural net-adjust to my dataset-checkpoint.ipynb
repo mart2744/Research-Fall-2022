{
 "cells": [
  {
   "cell_type": "markdown",
   "id": "51315f2d",
   "metadata": {},
   "source": [
    "https://www.youtube.com/watch?v=OMDn66kM9Qc&t=2005s"
   ]
  },
  {
   "cell_type": "code",
   "execution_count": 7,
   "id": "fb3c26f4",
   "metadata": {},
   "outputs": [],
   "source": [
    "import torch\n",
    "from torch import nn\n",
    "from torch import optim\n",
    "from torchvision import datasets, transforms\n",
    "from torch.utils.data import random_split, DataLoader\n",
    "import pytorch_lightning as pl"
   ]
  },
  {
   "cell_type": "markdown",
   "id": "e3288c0e",
   "metadata": {},
   "source": [
    "model = nn.Sequential(\n",
    "    nn.Linear(28 * 28, 64), \n",
    "    nn.ReLU(),\n",
    "    nn.Linear(64, 64),\n",
    "    nn.ReLU(),\n",
    "    nn.Linear(64,10)\n",
    ")"
   ]
  },
  {
   "cell_type": "code",
   "execution_count": 3,
   "id": "8ec0386e",
   "metadata": {},
   "outputs": [],
   "source": [
    "# define optimizer\n",
    "optimizer = optim.SGD(model.parameters(), lr=1e-2)"
   ]
  },
  {
   "cell_type": "code",
   "execution_count": 4,
   "id": "b38ec272",
   "metadata": {},
   "outputs": [],
   "source": [
    "# define loss\n",
    "loss = nn.CrossEntropyLoss()"
   ]
  },
  {
   "cell_type": "code",
   "execution_count": 5,
   "id": "6a371a8a",
   "metadata": {},
   "outputs": [],
   "source": [
    "# download MNIST and split into training and testing\n",
    "train_data = datasets.MNIST('data', train=True, download=True, transform=transforms.ToTensor())\n",
    "train, val = random_split(train_data, [55000, 5000])\n",
    "train_loader = DataLoader(train, batch_size=32)\n",
    "val_loader = DataLoader(val, batch_size=32)"
   ]
  },
  {
   "cell_type": "code",
   "execution_count": 6,
   "id": "93e84919",
   "metadata": {},
   "outputs": [
    {
     "name": "stdout",
     "output_type": "stream",
     "text": [
      "Epoch 1, train loss: 1.20\n",
      "Epoch 1, train loss: 0.48\n",
      "Epoch 2, train loss: 0.40\n",
      "Epoch 2, train loss: 0.35\n",
      "Epoch 3, train loss: 0.32\n",
      "Epoch 3, train loss: 0.30\n",
      "Epoch 4, train loss: 0.28\n",
      "Epoch 4, train loss: 0.27\n",
      "Epoch 5, train loss: 0.26\n",
      "Epoch 5, train loss: 0.25\n"
     ]
    }
   ],
   "source": [
    "# training and validation loops\n",
    "nb_epochs = 5\n",
    "for epoch in range(nb_epochs):\n",
    "    losses = list()\n",
    "    for batch in train_loader:\n",
    "        x, y = batch\n",
    "        # x: batch x 1 x 28 x 28\n",
    "        # flatten each image into a vector\n",
    "        b = x.size(0)\n",
    "        x = x.view(b,-1)\n",
    "        \n",
    "        # forward\n",
    "        l = model(x) #l: logit\n",
    "        \n",
    "        # compute the objective function\n",
    "        J = loss(l, y)\n",
    "        \n",
    "        # cleaning the gradients\n",
    "        model.zero_grad()\n",
    "        \n",
    "        # accumulate the partial derivatives of J wrt params\n",
    "        J.backward()\n",
    "        \n",
    "        # step in the opposite direction of the gradient\n",
    "        optimizer.step()\n",
    "        \n",
    "        losses.append(J.item())\n",
    "        \n",
    "    print(f'Epoch {epoch + 1}, train loss: {torch.tensor(losses).mean():.2f}')\n",
    "        \n",
    "    losses = list()\n",
    "    for batch in val_loader:\n",
    "        x, y = batch\n",
    "        # x: batch x 1 x 28 x 28\n",
    "        # flatten each image into a vector\n",
    "        b = x.size(0)\n",
    "        x = x.view(b,-1)\n",
    "\n",
    "        # forward\n",
    "        with torch.no_grad():\n",
    "            l = model(x) #l: logit\n",
    "\n",
    "        # compute the objective function\n",
    "        J = loss(l, y)\n",
    "\n",
    "        losses.append(J.item())\n",
    "    print(f'Epoch {epoch + 1}, train loss: {torch.tensor(losses).mean():.2f}')"
   ]
  },
  {
   "cell_type": "code",
   "execution_count": null,
   "id": "2967b238",
   "metadata": {},
   "outputs": [],
   "source": []
  }
 ],
 "metadata": {
  "kernelspec": {
   "display_name": "Python 3 (ipykernel)",
   "language": "python",
   "name": "python3"
  },
  "language_info": {
   "codemirror_mode": {
    "name": "ipython",
    "version": 3
   },
   "file_extension": ".py",
   "mimetype": "text/x-python",
   "name": "python",
   "nbconvert_exporter": "python",
   "pygments_lexer": "ipython3",
   "version": "3.9.12"
  }
 },
 "nbformat": 4,
 "nbformat_minor": 5
}
