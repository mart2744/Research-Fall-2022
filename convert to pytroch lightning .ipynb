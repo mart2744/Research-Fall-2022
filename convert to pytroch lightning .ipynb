{
 "cells": [
  {
   "cell_type": "markdown",
   "id": "64956198",
   "metadata": {},
   "source": [
    "https://www.youtube.com/watch?v=DbESHcCoWbM&t=13s"
   ]
  },
  {
   "cell_type": "code",
   "execution_count": 4,
   "id": "74b98c9d",
   "metadata": {},
   "outputs": [],
   "source": [
    "import torch\n",
    "from torch import nn\n",
    "from torch import optim\n",
    "from torchvision import datasets, transforms\n",
    "from torch.utils.data import random_split, DataLoader\n",
    "import pytorch_lightning as pl\n",
    "from pytorch_lightning.loggers import TensorBoardLogger"
   ]
  },
  {
   "cell_type": "code",
   "execution_count": 5,
   "id": "32c5019a",
   "metadata": {},
   "outputs": [],
   "source": [
    "class ImageClassifier(pl.LightningModule):\n",
    "    def __init__(self):\n",
    "        super().__init__()\n",
    "        self.l1 = nn.Linear(28 * 28, 64)\n",
    "        self.l2 = nn.Linear(64, 64)\n",
    "        self.l3 = nn.Linear(64,10)\n",
    "        \n",
    "        self.loss = nn.CrossEntropyLoss()\n",
    "    \n",
    "    def forward(self, x):\n",
    "        h1 = nn.functional.relu(self.l1(x))\n",
    "        h2 = nn.functional.relu(self.l2(h1))\n",
    "        logits = self.l3(h2)\n",
    "        return logits\n",
    "    \n",
    "    def configure_optimizers(self):\n",
    "        optimizer = optim.SGD(self.parameters(), lr=1e-2) \n",
    "        return optimizer\n",
    "    \n",
    "    def training_step(self, batch, batch_idx):\n",
    "        x, y = batch\n",
    "        \n",
    "        # flatten\n",
    "        b = x.size(0)\n",
    "        x = x.view(b, -1)\n",
    "        \n",
    "        # forward\n",
    "        logits = self(x)\n",
    "        \n",
    "        # compute the objective function\n",
    "        J = self.loss(logits, y)\n",
    "        \n",
    "        return J\n",
    "        \n",
    "    def train_dataloader(self):\n",
    "        train_data = datasets.MNIST('data', train=True, download=True, transform=transforms.ToTensor())\n",
    "        #train, val = random_split(train_data, [55000, 5000])\n",
    "        train_loader = DataLoader(train_data, batch_size=32)\n",
    "        #val_loader = DataLoader(val, batch_size=32)\n",
    "        return train_loader\n",
    "    \n",
    "model = ImageClassifier()\n",
    "        "
   ]
  },
  {
   "cell_type": "code",
   "execution_count": 8,
   "id": "81260006",
   "metadata": {},
   "outputs": [
    {
     "name": "stderr",
     "output_type": "stream",
     "text": [
      "GPU available: False, used: False\n",
      "TPU available: False, using: 0 TPU cores\n",
      "IPU available: False, using: 0 IPUs\n",
      "HPU available: False, using: 0 HPUs\n",
      "Missing logger folder: mnist_logs/my_model\n",
      "\n",
      "  | Name | Type             | Params\n",
      "------------------------------------------\n",
      "0 | l1   | Linear           | 50.2 K\n",
      "1 | l2   | Linear           | 4.2 K \n",
      "2 | l3   | Linear           | 650   \n",
      "3 | loss | CrossEntropyLoss | 0     \n",
      "------------------------------------------\n",
      "55.1 K    Trainable params\n",
      "0         Non-trainable params\n",
      "55.1 K    Total params\n",
      "0.220     Total estimated model params size (MB)\n"
     ]
    },
    {
     "data": {
      "application/vnd.jupyter.widget-view+json": {
       "model_id": "e622b6d23d0744fabe2d923d2391d1cb",
       "version_major": 2,
       "version_minor": 0
      },
      "text/plain": [
       "Training: 0it [00:00, ?it/s]"
      ]
     },
     "metadata": {},
     "output_type": "display_data"
    },
    {
     "name": "stderr",
     "output_type": "stream",
     "text": [
      "`Trainer.fit` stopped: `max_epochs=10` reached.\n"
     ]
    }
   ],
   "source": [
    "logger = TensorBoardLogger(\"mnist_logs\", name=\"my_model\")\n",
    "\n",
    "trainer = pl.Trainer(max_epochs = 10, logger=logger)\n",
    "trainer.fit(model)"
   ]
  },
  {
   "cell_type": "markdown",
   "id": "43c820f1",
   "metadata": {},
   "source": [
    "Look at tensorboard\n",
    "openCV for moving object detection - what modality? test them out\n",
    "building data collection system - save and export data"
   ]
  },
  {
   "cell_type": "code",
   "execution_count": null,
   "id": "48384a31",
   "metadata": {},
   "outputs": [],
   "source": []
  }
 ],
 "metadata": {
  "kernelspec": {
   "display_name": "Python 3 (ipykernel)",
   "language": "python",
   "name": "python3"
  },
  "language_info": {
   "codemirror_mode": {
    "name": "ipython",
    "version": 3
   },
   "file_extension": ".py",
   "mimetype": "text/x-python",
   "name": "python",
   "nbconvert_exporter": "python",
   "pygments_lexer": "ipython3",
   "version": "3.9.12"
  }
 },
 "nbformat": 4,
 "nbformat_minor": 5
}
